{
 "cells": [
  {
   "cell_type": "code",
   "execution_count": 1,
   "metadata": {
    "collapsed": false,
    "jupyter": {
     "outputs_hidden": false
    },
    "pycharm": {
     "name": "#%%\n"
    }
   },
   "outputs": [
    {
     "name": "stderr",
     "output_type": "stream",
     "text": [
      "/opt/homebrew/Caskroom/miniforge/base/envs/egmn-dev/lib/python3.10/site-packages/numba/core/decorators.py:262: NumbaDeprecationWarning: \u001b[1mnumba.generated_jit is deprecated. Please see the documentation at: https://numba.readthedocs.io/en/stable/reference/deprecation.html#deprecation-of-generated-jit for more information and advice on a suitable replacement.\u001b[0m\n",
      "  warnings.warn(msg, NumbaDeprecationWarning)\n"
     ]
    }
   ],
   "source": [
    "import warnings\n",
    "import matplotlib.pyplot as plt\n",
    "with warnings.catch_warnings():\n",
    "    from egmn.ConsPensionModel import PensionConsumerType, init_pension_contrib\n",
    "    from HARK.interpolation._sklearn import GeneralizedRegressionUnstructuredInterp\n",
    "    from egmn.utilities import plot_3d_func, plot_scatter_hist\n",
    "\n",
    "figures_path = \"../../content/figures/\""
   ]
  },
  {
   "cell_type": "code",
   "execution_count": 2,
   "metadata": {},
   "outputs": [],
   "source": [
    "baseline_params = init_pension_contrib.copy()\n",
    "baseline_params[\"mCount\"] = 50\n",
    "baseline_params[\"mMax\"] = 10\n",
    "baseline_params[\"mNestFac\"] = -1\n",
    "\n",
    "baseline_params[\"nCount\"] = 50\n",
    "baseline_params[\"nMax\"] = 12\n",
    "baseline_params[\"nNestFac\"] = -1\n",
    "\n",
    "baseline_params[\"lCount\"] = 50\n",
    "baseline_params[\"lMax\"] = 9\n",
    "baseline_params[\"lNestFac\"] = -1\n",
    "\n",
    "baseline_params[\"blCount\"] = 50\n",
    "baseline_params[\"blMax\"] = 13\n",
    "baseline_params[\"blNestFac\"] = -1\n",
    "\n",
    "baseline_params[\"aCount\"] = 50\n",
    "baseline_params[\"aMax\"] = 8\n",
    "baseline_params[\"aNestFac\"] = -1\n",
    "\n",
    "baseline_params[\"bCount\"] = 50\n",
    "baseline_params[\"bMax\"] = 14\n",
    "baseline_params[\"bNestFac\"] = -1\n",
    "\n",
    "max_cycles = 5\n",
    "baseline_params[\"cycles\"] = max_cycles"
   ]
  },
  {
   "cell_type": "code",
   "execution_count": 3,
   "metadata": {
    "collapsed": false,
    "jupyter": {
     "outputs_hidden": false
    },
    "pycharm": {
     "name": "#%%\n"
    }
   },
   "outputs": [],
   "source": [
    "agent = PensionConsumerType(**baseline_params)"
   ]
  },
  {
   "cell_type": "code",
   "execution_count": 4,
   "metadata": {
    "collapsed": false,
    "jupyter": {
     "outputs_hidden": false
    },
    "pycharm": {
     "name": "#%%\n"
    }
   },
   "outputs": [
    {
     "name": "stderr",
     "output_type": "stream",
     "text": [
      "/opt/homebrew/Caskroom/miniforge/base/envs/egmn-dev/lib/python3.10/site-packages/interpolation/splines/eval_splines.py:232: NumbaPendingDeprecationWarning: \u001b[1m\u001b[1m\u001b[1m\u001b[1mCode using Numba extension API maybe depending on 'old_style' error-capturing, which is deprecated and will be replaced by 'new_style' in a future release. See details at https://numba.readthedocs.io/en/latest/reference/deprecation.html#deprecation-of-old-style-numba-captured-errors\n",
      "Exception origin:\n",
      "  File \"/opt/homebrew/Caskroom/miniforge/base/envs/egmn-dev/lib/python3.10/site-packages/interpolation/splines/eval_splines.py\", line 116, in __eval_spline\n",
      "    kk = (order).literal_value\n",
      "\u001b[0m\u001b[0m\u001b[0m\u001b[0m\n",
      "  return _eval_linear(*args)\n",
      "/opt/homebrew/Caskroom/miniforge/base/envs/egmn-dev/lib/python3.10/site-packages/interpolation/splines/eval_splines.py:232: NumbaPendingDeprecationWarning: \u001b[1m\u001b[1m\u001b[1m\u001b[1mCode using Numba extension API maybe depending on 'old_style' error-capturing, which is deprecated and will be replaced by 'new_style' in a future release. See details at https://numba.readthedocs.io/en/latest/reference/deprecation.html#deprecation-of-old-style-numba-captured-errors\n",
      "Exception origin:\n",
      "  File \"/opt/homebrew/Caskroom/miniforge/base/envs/egmn-dev/lib/python3.10/site-packages/interpolation/splines/eval_splines.py\", line 116, in __eval_spline\n",
      "    kk = (order).literal_value\n",
      "\u001b[0m\u001b[0m\u001b[0m\u001b[0m\n",
      "  return _eval_linear(*args)\n",
      "/opt/homebrew/Caskroom/miniforge/base/envs/egmn-dev/lib/python3.10/site-packages/interpolation/splines/eval_splines.py:232: NumbaPendingDeprecationWarning: \u001b[1m\u001b[1m\u001b[1m\u001b[1mCode using Numba extension API maybe depending on 'old_style' error-capturing, which is deprecated and will be replaced by 'new_style' in a future release. See details at https://numba.readthedocs.io/en/latest/reference/deprecation.html#deprecation-of-old-style-numba-captured-errors\n",
      "Exception origin:\n",
      "  File \"/opt/homebrew/Caskroom/miniforge/base/envs/egmn-dev/lib/python3.10/site-packages/interpolation/splines/eval_splines.py\", line 116, in __eval_spline\n",
      "    kk = (order).literal_value\n",
      "\u001b[0m\u001b[0m\u001b[0m\u001b[0m\n",
      "  return _eval_linear(*args)\n"
     ]
    }
   ],
   "source": [
    "with warnings.catch_warnings():\n",
    "    agent.solve()\n",
    "\n",
    "T = 0"
   ]
  },
  {
   "cell_type": "code",
   "execution_count": 7,
   "metadata": {},
   "outputs": [
    {
     "data": {
      "application/vnd.jupyter.widget-view+json": {
       "model_id": "a7f37e987c224e8c825d374bed759f2a",
       "version_major": 2,
       "version_minor": 0
      },
      "text/plain": [
       "VBox(children=(VBox(children=(Label(value='Interactive Controls'), IntSlider(value=0, description='Cycle (t):'…"
      ]
     },
     "metadata": {},
     "output_type": "display_data"
    },
    {
     "data": {
      "application/vnd.jupyter.widget-view+json": {
       "model_id": "5906f985843d483e9ec8e639d7522386",
       "version_major": 2,
       "version_minor": 0
      },
      "text/plain": [
       "Output()"
      ]
     },
     "metadata": {},
     "output_type": "display_data"
    }
   ],
   "source": [
    "#| label: conspension\n",
    "import ipywidgets as w\n",
    "from ipywidgets import VBox, HBox\n",
    "import numpy as np\n",
    "\n",
    "debug = w.Output()\n",
    "\n",
    "state = dict(cycles=-1)\n",
    "\n",
    "# plt.ioff()\n",
    "# fig = plt.figure()\n",
    "# ax=fig.add_subplot(1,1,1, projection=\"3d\")\n",
    "\n",
    "lookup = {\n",
    "    'Consumption Value Function (VF)': lambda a, t: a.solution[t].consumption_stage.v_func.vFuncNvrs,\n",
    "    'Consumption VF Derivative L':  lambda a, t: a.solution[t].consumption_stage.dvdl_func.cFunc,\n",
    "    'Consumption VF Derivative B':  lambda a, t: a.solution[t].consumption_stage.dvdb_func.cFunc,\n",
    "    'Deposit Amount': lambda a, t: a.solution[t].deposit_stage.d_func,\n",
    "    'Deposit Stage Consumption': lambda a, t : a.solution[t].deposit_stage.c_func,\n",
    "    'Deposit Stage Value Function (VF)': lambda a, t : a.solution[t].deposit_stage.v_func.vFuncNvrs,\n",
    "    'Deposit Stage VF Derivative M': lambda a,t: a.solution[t].deposit_stage.dvdm_func.cFunc,\n",
    "    'Deposit Stage VF Derivative N': lambda a,t: a.solution[t].deposit_stage.dvdn_func.cFunc\n",
    "}\n",
    "\n",
    "options = list(lookup.keys())\n",
    "\n",
    "w_count = w.IntSlider(50, min=10, max=100, description=\"Count:\")\n",
    "w_nestfac = w.IntSlider(-1, min=-5, max=5, description=\"NestFac:\")\n",
    "w_cycles = w.IntSlider(max_cycles, min=1, max=20, description=\"Cycles:\")\n",
    "w_mMax = w.IntSlider(10, min=1, max=30, description=\"mMax:\")\n",
    "w_nMax = w.IntSlider(12, min=1, max=30, description=\"nMax:\")\n",
    "w_lMax = w.IntSlider(9, min=1, max=30, description=\"lMax:\")\n",
    "w_blMax = w.IntSlider(13, min=1, max=30, description=\"blMax:\")\n",
    "w_aMax = w.IntSlider(8, min=1, max=30, description=\"aMax:\")\n",
    "w_bMax = w.IntSlider(14, min=1, max=30, description=\"bMax:\")\n",
    "out_readout = w.Output()\n",
    "\n",
    "w_t = w.IntSlider(0, min=0, max=max_cycles-1, description=\"Cycle (t):\")\n",
    "w_plottype = w.Dropdown(options=options, value=options[0], description=\"Plot Type:\")\n",
    "w_plottype.layout.width = '400px'\n",
    "w_solve = w.Button(description='Solve')\n",
    "w_elev = w.IntSlider(20, min=0, max=85, description=\"Elevation:\")\n",
    "w_azim = w.IntSlider(245, min=0, max=360, description=\"Azimuth:\")\n",
    "\n",
    "def plot(cycles, t, plottype, elev, azim):\n",
    "    global agent\n",
    "    with debug:\n",
    "        params = dict(**baseline_params)\n",
    "        fig = plt.figure(figsize=(6,6))\n",
    "        ax = plt.axes(projection=\"3d\")\n",
    "        ax.view_init(elev=elev, azim=azim)\n",
    "        ax.tick_params(axis='both', labelsize=8) \n",
    "        plot_3d_func(lookup[plottype](agent, t), [0, 5], [0, 5], \n",
    "                     meta={\n",
    "                         \"title\": \"Cons Pension Model\", \n",
    "                         \"xlabel\": \"Retirement balance $n$\", \n",
    "                         \"ylabel\":\"Market Resources $m$\", \n",
    "                         \"zlabel\": \"Pension Deposits $d$\"},\n",
    "                     ax=ax, show=False)\n",
    "        \n",
    "        \n",
    "    with out_readout:\n",
    "        out_readout.clear_output(wait=True)\n",
    "\n",
    "baseline_ctrl = VBox([\n",
    "    w.Label(\"Baseline Settings (press 'solve' to apply)\"),\n",
    "    HBox([\n",
    "    VBox([w_count, w_mMax, w_lMax, w_aMax, w_cycles]),\n",
    "    VBox([w_nestfac, w_nMax, w_blMax, w_bMax,HBox([w_solve, out_readout])]),\n",
    "])])\n",
    "\n",
    "\n",
    "def do_solve(_):\n",
    "    global baseline_params\n",
    "    global max_cycles\n",
    "    global agent\n",
    "    with out_readout:\n",
    "        out_readout.clear_output(wait=True)\n",
    "        print('solving...')\n",
    "\n",
    "    with debug:\n",
    "        baseline_params[\"mCount\"] = w_count.value\n",
    "        baseline_params[\"mMax\"] = 10\n",
    "        baseline_params[\"mNestFac\"] = -1\n",
    "        \n",
    "        baseline_params[\"nCount\"] = w_count.value\n",
    "        baseline_params[\"nMax\"] = 12\n",
    "        baseline_params[\"nNestFac\"] = -1\n",
    "        \n",
    "        baseline_params[\"lCount\"] = w_count.value\n",
    "        baseline_params[\"lMax\"] = 9\n",
    "        baseline_params[\"lNestFac\"] = -1\n",
    "        \n",
    "        baseline_params[\"blCount\"] = w_count.value\n",
    "        baseline_params[\"blMax\"] = 13\n",
    "        baseline_params[\"blNestFac\"] = -1\n",
    "        \n",
    "        baseline_params[\"aCount\"] = w_count.value\n",
    "        baseline_params[\"aMax\"] = 8\n",
    "        baseline_params[\"aNestFac\"] = -1\n",
    "        \n",
    "        baseline_params[\"bCount\"] = w_count.value\n",
    "        baseline_params[\"bMax\"] = 14\n",
    "        baseline_params[\"bNestFac\"] = -1\n",
    "    \n",
    "        max_cycles = w_cycles.value\n",
    "        baseline_params[\"cycles\"] = max_cycles\n",
    "    \n",
    "        agent = PensionConsumerType(**baseline_params)\n",
    "        agent.solve()\n",
    "\n",
    "        plot(cycles=w_cycles.value, t=w_t.value, plottype=w_plottype.value)\n",
    "        \n",
    "    with out_readout:\n",
    "        out_readout.clear_output(wait=True)\n",
    "\n",
    "w_solve.on_click(do_solve)\n",
    "\n",
    "interactive_ctrl = VBox([w.Label(\"Interactive Controls\"),w_t, w_plottype, HBox([w_elev, w_azim])])\n",
    "\n",
    "e_out = w.interactive_output(plot, dict(cycles=w_cycles, t=w_t, plottype=w_plottype, elev=w_elev, azim=w_azim))\n",
    "plots = HBox([e_out])\n",
    "\n",
    "# TODO get baseline controls working\n",
    "# ui = VBox([baseline_ctrl, interactive_ctrl, plots])\n",
    "ui = VBox([interactive_ctrl, plots])\n",
    "display(ui)\n",
    "display(debug)"
   ]
  },
  {
   "cell_type": "code",
   "execution_count": null,
   "metadata": {},
   "outputs": [],
   "source": []
  },
  {
   "cell_type": "code",
   "execution_count": null,
   "metadata": {},
   "outputs": [],
   "source": []
  }
 ],
 "metadata": {
  "jupytext": {
   "formats": "ipynb,py:percent"
  },
  "kernelspec": {
   "display_name": "Python 3 (ipykernel)",
   "language": "python",
   "name": "python3"
  },
  "language_info": {
   "codemirror_mode": {
    "name": "ipython",
    "version": 3
   },
   "file_extension": ".py",
   "mimetype": "text/x-python",
   "name": "python",
   "nbconvert_exporter": "python",
   "pygments_lexer": "ipython3",
   "version": "3.10.13"
  },
  "vscode": {
   "interpreter": {
    "hash": "79951e4b60143e56f74775fb161f6f6a8dbe0cc643d2aff46d80703e071913a3"
   }
  }
 },
 "nbformat": 4,
 "nbformat_minor": 4
}
