{
 "cells": [
  {
   "cell_type": "code",
   "execution_count": 1,
   "metadata": {
    "collapsed": false,
    "jupyter": {
     "outputs_hidden": false
    },
    "pycharm": {
     "name": "#%%\n"
    }
   },
   "outputs": [
    {
     "name": "stderr",
     "output_type": "stream",
     "text": [
      "/opt/homebrew/Caskroom/miniforge/base/envs/egmn-dev/lib/python3.10/site-packages/numba/core/decorators.py:262: NumbaDeprecationWarning: \u001b[1mnumba.generated_jit is deprecated. Please see the documentation at: https://numba.readthedocs.io/en/stable/reference/deprecation.html#deprecation-of-generated-jit for more information and advice on a suitable replacement.\u001b[0m\n",
      "  warnings.warn(msg, NumbaDeprecationWarning)\n"
     ]
    }
   ],
   "source": [
    "import warnings\n",
    "import matplotlib.pyplot as plt\n",
    "with warnings.catch_warnings():\n",
    "    from egmn.ConsPensionModel import PensionConsumerType, init_pension_contrib\n",
    "    from HARK.interpolation._sklearn import GeneralizedRegressionUnstructuredInterp\n",
    "    from egmn.utilities import plot_3d_func, plot_scatter_hist\n",
    "\n",
    "figures_path = \"../../content/figures/\""
   ]
  },
  {
   "cell_type": "code",
   "execution_count": 2,
   "metadata": {},
   "outputs": [],
   "source": [
    "baseline_params = init_pension_contrib.copy()\n",
    "baseline_params[\"mCount\"] = 50\n",
    "baseline_params[\"mMax\"] = 10\n",
    "baseline_params[\"mNestFac\"] = -1\n",
    "\n",
    "baseline_params[\"nCount\"] = 50\n",
    "baseline_params[\"nMax\"] = 12\n",
    "baseline_params[\"nNestFac\"] = -1\n",
    "\n",
    "baseline_params[\"lCount\"] = 50\n",
    "baseline_params[\"lMax\"] = 9\n",
    "baseline_params[\"lNestFac\"] = -1\n",
    "\n",
    "baseline_params[\"blCount\"] = 50\n",
    "baseline_params[\"blMax\"] = 13\n",
    "baseline_params[\"blNestFac\"] = -1\n",
    "\n",
    "baseline_params[\"aCount\"] = 50\n",
    "baseline_params[\"aMax\"] = 8\n",
    "baseline_params[\"aNestFac\"] = -1\n",
    "\n",
    "baseline_params[\"bCount\"] = 50\n",
    "baseline_params[\"bMax\"] = 14\n",
    "baseline_params[\"bNestFac\"] = -1\n",
    "\n",
    "baseline_params[\"cycles\"] = 3"
   ]
  },
  {
   "cell_type": "code",
   "execution_count": 3,
   "metadata": {
    "collapsed": false,
    "jupyter": {
     "outputs_hidden": false
    },
    "pycharm": {
     "name": "#%%\n"
    }
   },
   "outputs": [],
   "source": [
    "agent = PensionConsumerType(**baseline_params)"
   ]
  },
  {
   "cell_type": "code",
   "execution_count": 4,
   "metadata": {
    "collapsed": false,
    "jupyter": {
     "outputs_hidden": false
    },
    "pycharm": {
     "name": "#%%\n"
    }
   },
   "outputs": [
    {
     "name": "stderr",
     "output_type": "stream",
     "text": [
      "/opt/homebrew/Caskroom/miniforge/base/envs/egmn-dev/lib/python3.10/site-packages/interpolation/splines/eval_splines.py:232: NumbaPendingDeprecationWarning: \u001b[1m\u001b[1m\u001b[1m\u001b[1mCode using Numba extension API maybe depending on 'old_style' error-capturing, which is deprecated and will be replaced by 'new_style' in a future release. See details at https://numba.readthedocs.io/en/latest/reference/deprecation.html#deprecation-of-old-style-numba-captured-errors\n",
      "Exception origin:\n",
      "  File \"/opt/homebrew/Caskroom/miniforge/base/envs/egmn-dev/lib/python3.10/site-packages/interpolation/splines/eval_splines.py\", line 116, in __eval_spline\n",
      "    kk = (order).literal_value\n",
      "\u001b[0m\u001b[0m\u001b[0m\u001b[0m\n",
      "  return _eval_linear(*args)\n",
      "/opt/homebrew/Caskroom/miniforge/base/envs/egmn-dev/lib/python3.10/site-packages/interpolation/splines/eval_splines.py:232: NumbaPendingDeprecationWarning: \u001b[1m\u001b[1m\u001b[1m\u001b[1mCode using Numba extension API maybe depending on 'old_style' error-capturing, which is deprecated and will be replaced by 'new_style' in a future release. See details at https://numba.readthedocs.io/en/latest/reference/deprecation.html#deprecation-of-old-style-numba-captured-errors\n",
      "Exception origin:\n",
      "  File \"/opt/homebrew/Caskroom/miniforge/base/envs/egmn-dev/lib/python3.10/site-packages/interpolation/splines/eval_splines.py\", line 116, in __eval_spline\n",
      "    kk = (order).literal_value\n",
      "\u001b[0m\u001b[0m\u001b[0m\u001b[0m\n",
      "  return _eval_linear(*args)\n",
      "/opt/homebrew/Caskroom/miniforge/base/envs/egmn-dev/lib/python3.10/site-packages/interpolation/splines/eval_splines.py:232: NumbaPendingDeprecationWarning: \u001b[1m\u001b[1m\u001b[1m\u001b[1mCode using Numba extension API maybe depending on 'old_style' error-capturing, which is deprecated and will be replaced by 'new_style' in a future release. See details at https://numba.readthedocs.io/en/latest/reference/deprecation.html#deprecation-of-old-style-numba-captured-errors\n",
      "Exception origin:\n",
      "  File \"/opt/homebrew/Caskroom/miniforge/base/envs/egmn-dev/lib/python3.10/site-packages/interpolation/splines/eval_splines.py\", line 116, in __eval_spline\n",
      "    kk = (order).literal_value\n",
      "\u001b[0m\u001b[0m\u001b[0m\u001b[0m\n",
      "  return _eval_linear(*args)\n"
     ]
    }
   ],
   "source": [
    "with warnings.catch_warnings():\n",
    "    agent.solve()\n",
    "\n",
    "T = 0"
   ]
  },
  {
   "cell_type": "code",
   "execution_count": 9,
   "metadata": {},
   "outputs": [
    {
     "data": {
      "application/vnd.jupyter.widget-view+json": {
       "model_id": "a645057102e444d38e51b12e8832bf60",
       "version_major": 2,
       "version_minor": 0
      },
      "text/plain": [
       "VBox(children=(VBox(children=(IntSlider(value=1, description='Cycles:', max=10, min=1), IntSlider(value=0, des…"
      ]
     },
     "metadata": {},
     "output_type": "display_data"
    },
    {
     "data": {
      "application/vnd.jupyter.widget-view+json": {
       "model_id": "ab9476f1c309404fa952fe62b12d62d6",
       "version_major": 2,
       "version_minor": 0
      },
      "text/plain": [
       "Output()"
      ]
     },
     "metadata": {},
     "output_type": "display_data"
    }
   ],
   "source": [
    "import ipywidgets as widgets\n",
    "from ipywidgets import VBox, HBox\n",
    "\n",
    "debug = widgets.Output()\n",
    "with debug:\n",
    "    print(\"debug output:\")\n",
    "\n",
    "state = dict(cycles=-1)\n",
    "plt.ioff()\n",
    "\n",
    "def plot(cycles, t, plottype):\n",
    "    global agent\n",
    "    with debug:\n",
    "        print(cycles, t, plottype)\n",
    "        params = dict(**baseline_params)\n",
    "        params.pop(\"cycles\")\n",
    "        if state['cycles'] > -1 and state['cycles'] != cycles: \n",
    "            agent = PensionConsumerType(**params, cycles=cycles)\n",
    "            with warnings.catch_warnings():\n",
    "                agent.solve()\n",
    "            state['cycles'] = cycles\n",
    "            \n",
    "        with warnings.catch_warnings():\n",
    "            plot_3d_func(agent.solution[t].post_decision_stage.v_func.vFuncNvrs, [0, 5], [0, 5])\n",
    "\n",
    "        plt.show()\n",
    "\n",
    "w_cycles = widgets.IntSlider(1, min=1, max=10, description=\"Cycles:\")\n",
    "w_t = widgets.IntSlider(0, min=0, max=3, description=\"T:\")\n",
    "w_plottype = widgets.Dropdown(options=['a','b','c'], value='a', description=\"Plot Type:\")\n",
    "controls = VBox([w_cycles, w_t, w_plottype])\n",
    "\n",
    "e_out = widgets.interactive_output(plot, dict(cycles=w_cycles, t=w_t, plottype=w_plottype))\n",
    "plots = HBox([e_out])\n",
    "\n",
    "ui = VBox([controls, plots])\n",
    "display(ui)\n",
    "display(debug)"
   ]
  },
  {
   "attachments": {},
   "cell_type": "markdown",
   "metadata": {},
   "source": [
    "## Post Decision Stage\n"
   ]
  },
  {
   "cell_type": "code",
   "execution_count": null,
   "metadata": {},
   "outputs": [],
   "source": [
    "with warnings.catch_warnings():\n",
    "    plot_3d_func(agent.solution[2].post_decision_stage.v_func.vFuncNvrs, [0, 5], [0, 5])"
   ]
  },
  {
   "cell_type": "code",
   "execution_count": null,
   "metadata": {},
   "outputs": [],
   "source": [
    "plot_3d_func(agent.solution[T].post_decision_stage.dvda_func.cFunc, [0, 5], [0, 5])"
   ]
  },
  {
   "cell_type": "code",
   "execution_count": null,
   "metadata": {},
   "outputs": [],
   "source": [
    "plot_3d_func(agent.solution[T].post_decision_stage.dvdb_func.cFunc, [0, 5], [0, 5])"
   ]
  },
  {
   "attachments": {},
   "cell_type": "markdown",
   "metadata": {},
   "source": [
    "## Consumption Stage\n"
   ]
  },
  {
   "cell_type": "code",
   "execution_count": null,
   "metadata": {
    "collapsed": false,
    "jupyter": {
     "outputs_hidden": false
    },
    "pycharm": {
     "name": "#%%\n"
    }
   },
   "outputs": [],
   "source": [
    "plot_3d_func(agent.solution[T].consumption_stage.c_func, [0, 5], [0, 5])"
   ]
  },
  {
   "cell_type": "code",
   "execution_count": null,
   "metadata": {},
   "outputs": [],
   "source": [
    "plot_3d_func(agent.solution[T].consumption_stage.v_func.vFuncNvrs, [0, 5], [0, 5])"
   ]
  },
  {
   "cell_type": "code",
   "execution_count": null,
   "metadata": {},
   "outputs": [],
   "source": [
    "plot_3d_func(agent.solution[T].consumption_stage.dvdl_func.cFunc, [0, 5], [0, 5])"
   ]
  },
  {
   "cell_type": "code",
   "execution_count": null,
   "metadata": {},
   "outputs": [],
   "source": [
    "plot_3d_func(agent.solution[T].consumption_stage.dvdb_func.cFunc, [0, 5], [0, 5])"
   ]
  },
  {
   "attachments": {},
   "cell_type": "markdown",
   "metadata": {},
   "source": [
    "## Deposit Stage\n"
   ]
  },
  {
   "cell_type": "code",
   "execution_count": null,
   "metadata": {},
   "outputs": [],
   "source": [
    "plot_3d_func(agent.solution[T].deposit_stage.d_func, [0, 5], [0, 5])"
   ]
  },
  {
   "cell_type": "code",
   "execution_count": null,
   "metadata": {
    "collapsed": false,
    "jupyter": {
     "outputs_hidden": false
    },
    "pycharm": {
     "name": "#%%\n"
    }
   },
   "outputs": [],
   "source": [
    "plot_3d_func(agent.solution[T].deposit_stage.c_func, [0, 5], [0, 5])"
   ]
  },
  {
   "cell_type": "code",
   "execution_count": null,
   "metadata": {},
   "outputs": [],
   "source": [
    "plot_3d_func(agent.solution[T].deposit_stage.v_func.vFuncNvrs, [0, 5], [0, 5])"
   ]
  },
  {
   "cell_type": "code",
   "execution_count": null,
   "metadata": {},
   "outputs": [],
   "source": [
    "plot_3d_func(agent.solution[T].deposit_stage.dvdm_func.cFunc, [0, 5], [0, 5])"
   ]
  },
  {
   "cell_type": "code",
   "execution_count": null,
   "metadata": {
    "collapsed": false,
    "jupyter": {
     "outputs_hidden": false
    },
    "pycharm": {
     "name": "#%%\n"
    }
   },
   "outputs": [],
   "source": [
    "plot_3d_func(agent.solution[T].deposit_stage.dvdn_func.cFunc, [0, 5], [0, 5])"
   ]
  },
  {
   "cell_type": "code",
   "execution_count": null,
   "metadata": {
    "collapsed": false,
    "jupyter": {
     "outputs_hidden": false
    },
    "pycharm": {
     "name": "#%%\n"
    }
   },
   "outputs": [],
   "source": [
    "%time\n",
    "plot_3d_func(agent.solution[T].deposit_stage.gaussian_interp, [0, 5], [0, 5])"
   ]
  },
  {
   "attachments": {},
   "cell_type": "markdown",
   "metadata": {
    "lines_to_next_cell": 2
   },
   "source": [
    "## Grids\n"
   ]
  },
  {
   "cell_type": "code",
   "execution_count": null,
   "metadata": {},
   "outputs": [],
   "source": [
    "grids = agent.solution[T].consumption_stage.grids_before_cleanup"
   ]
  },
  {
   "cell_type": "code",
   "execution_count": null,
   "metadata": {},
   "outputs": [],
   "source": [
    "plot_scatter_hist(\n",
    "    grids[\"lMat\"],\n",
    "    grids[\"blMat\"],\n",
    "    grids[\"dMat\"],\n",
    "    \"Pension Deposit on Exogenous Grid\",\n",
    "    r\"Market Resources $\\ell$\",\n",
    "    \"Retirement balance $b$\",\n",
    "    \"PensionExogenousGrid\",\n",
    ")"
   ]
  },
  {
   "cell_type": "code",
   "execution_count": null,
   "metadata": {},
   "outputs": [],
   "source": [
    "plot_scatter_hist(\n",
    "    grids[\"mMat\"],\n",
    "    grids[\"nMat\"],\n",
    "    grids[\"dMat\"],\n",
    "    \"Pension Deposit on Endogenous Grid\",\n",
    "    \"Market Resources $m$\",\n",
    "    \"Retirement balance $n$\",\n",
    "    \"PensionEndogenousGrid\",\n",
    ")"
   ]
  },
  {
   "cell_type": "code",
   "execution_count": null,
   "metadata": {
    "collapsed": false,
    "jupyter": {
     "outputs_hidden": false
    },
    "pycharm": {
     "name": "#%%\n"
    }
   },
   "outputs": [],
   "source": [
    "plot_scatter_hist(\n",
    "    agent.solution[T].deposit_stage.gaussian_interp.grids[0],\n",
    "    agent.solution[T].deposit_stage.gaussian_interp.grids[1],\n",
    "    agent.solution[T].deposit_stage.gaussian_interp.values,\n",
    "    \"Pension Deposit on Endogenous Grid\",\n",
    "    \"Market Resources $m$\",\n",
    "    \"Retirement balance $n$\",\n",
    "    \"2ndStagePensionEndogenousGrid\",\n",
    ")"
   ]
  },
  {
   "cell_type": "code",
   "execution_count": null,
   "metadata": {},
   "outputs": [],
   "source": [
    "fig, ax = plt.subplots()\n",
    "plot = ax.scatter(\n",
    "    grids[\"mMat\"],\n",
    "    grids[\"nMat\"],\n",
    "    c=grids[\"dMat\"],\n",
    "    cmap=\"viridis\",\n",
    "    vmin=-1,\n",
    "    vmax=5,\n",
    "    plotnonfinite=True,\n",
    "    alpha=0.6,\n",
    "    s=5,\n",
    ")\n",
    "cbar = fig.colorbar(plot)\n",
    "cbar.ax.set_ylabel(\"Pension Deposits $d$\")\n",
    "\n",
    "plt.xlim([-1, 10])\n",
    "plt.ylim([-1, 10])"
   ]
  },
  {
   "cell_type": "code",
   "execution_count": null,
   "metadata": {},
   "outputs": [],
   "source": [
    "fig, ax = plt.subplots()\n",
    "scatter = ax.scatter(\n",
    "    grids[\"lMat\"],\n",
    "    grids[\"blMat\"],\n",
    "    # c=np.maximum(grids[\"dMat\"], 0),\n",
    "    # cmap=\"viridis\",\n",
    "    vmin=-2,\n",
    "    vmax=15,\n",
    "    plotnonfinite=True,\n",
    "    alpha=0.6,\n",
    "    s=5,\n",
    ")\n",
    "# cbar = fig.colorbar(scatter)\n",
    "# cbar.ax.set_ylabel(\"Pension Deposits $d$\")\n",
    "\n",
    "plt.title(\"Pension Deposits on Exogenous Post-Decision Grid\")\n",
    "plt.xlabel(r\"Liquid Wealth $\\ell$\")\n",
    "plt.ylabel(\"Retirement Balance $b$\")\n",
    "fig.savefig(figures_path + \"SparsePensionExogenousGrid.svg\")\n",
    "fig.savefig(figures_path + \"SparsePensionExogenousGrid.pdf\")"
   ]
  },
  {
   "cell_type": "code",
   "execution_count": null,
   "metadata": {},
   "outputs": [],
   "source": [
    "grids = agent.solution[T].consumption_stage.grids_before_cleanup"
   ]
  },
  {
   "cell_type": "code",
   "execution_count": null,
   "metadata": {},
   "outputs": [],
   "source": []
  },
  {
   "cell_type": "code",
   "execution_count": null,
   "metadata": {},
   "outputs": [],
   "source": [
    "gauss_interp = GeneralizedRegressionUnstructuredInterp(\n",
    "    grids[\"dMat\"],\n",
    "    [grids[\"mMat\"], grids[\"nMat\"]],\n",
    "    model=\"gaussian-process\",\n",
    "    std=True,\n",
    "    model_kwargs={\"normalize_y\": True},\n",
    ")"
   ]
  },
  {
   "cell_type": "code",
   "execution_count": null,
   "metadata": {},
   "outputs": [],
   "source": [
    "# get_ipython().run_line_magic(\"matplotlib\", \"widget\")\n",
    "plot_3d_func(gauss_interp, [0, 5], [0, 5])"
   ]
  },
  {
   "cell_type": "code",
   "execution_count": null,
   "metadata": {},
   "outputs": [],
   "source": []
  }
 ],
 "metadata": {
  "jupytext": {
   "formats": "ipynb,py:percent"
  },
  "kernelspec": {
   "display_name": "Python 3 (ipykernel)",
   "language": "python",
   "name": "python3"
  },
  "language_info": {
   "codemirror_mode": {
    "name": "ipython",
    "version": 3
   },
   "file_extension": ".py",
   "mimetype": "text/x-python",
   "name": "python",
   "nbconvert_exporter": "python",
   "pygments_lexer": "ipython3",
   "version": "3.10.13"
  },
  "vscode": {
   "interpreter": {
    "hash": "79951e4b60143e56f74775fb161f6f6a8dbe0cc643d2aff46d80703e071913a3"
   }
  }
 },
 "nbformat": 4,
 "nbformat_minor": 4
}
