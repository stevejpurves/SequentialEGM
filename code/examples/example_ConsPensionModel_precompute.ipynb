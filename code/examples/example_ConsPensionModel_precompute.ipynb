{
 "cells": [
  {
   "cell_type": "code",
   "execution_count": 2,
   "metadata": {
    "collapsed": false,
    "jupyter": {
     "outputs_hidden": false
    },
    "pycharm": {
     "name": "#%%\n"
    }
   },
   "outputs": [
    {
     "name": "stderr",
     "output_type": "stream",
     "text": [
      "/opt/homebrew/Caskroom/miniforge/base/envs/egmn-dev/lib/python3.10/site-packages/numba/core/decorators.py:262: NumbaDeprecationWarning: \u001b[1mnumba.generated_jit is deprecated. Please see the documentation at: https://numba.readthedocs.io/en/stable/reference/deprecation.html#deprecation-of-generated-jit for more information and advice on a suitable replacement.\u001b[0m\n",
      "  warnings.warn(msg, NumbaDeprecationWarning)\n"
     ]
    }
   ],
   "source": [
    "import warnings\n",
    "import matplotlib.pyplot as plt\n",
    "with warnings.catch_warnings():\n",
    "    from egmn.ConsPensionModel import PensionConsumerType, init_pension_contrib\n",
    "    from HARK.interpolation._sklearn import GeneralizedRegressionUnstructuredInterp\n",
    "    from egmn.utilities import plot_3d_func, plot_scatter_hist\n",
    "\n",
    "figures_path = \"../../content/figures/\""
   ]
  },
  {
   "cell_type": "code",
   "execution_count": 4,
   "metadata": {},
   "outputs": [],
   "source": [
    "baseline_params = init_pension_contrib.copy()\n",
    "baseline_params[\"mCount\"] = 50\n",
    "baseline_params[\"mMax\"] = 10\n",
    "baseline_params[\"mNestFac\"] = -1\n",
    "\n",
    "baseline_params[\"nCount\"] = 50\n",
    "baseline_params[\"nMax\"] = 12\n",
    "baseline_params[\"nNestFac\"] = -1\n",
    "\n",
    "baseline_params[\"lCount\"] = 50\n",
    "baseline_params[\"lMax\"] = 9\n",
    "baseline_params[\"lNestFac\"] = -1\n",
    "\n",
    "baseline_params[\"blCount\"] = 50\n",
    "baseline_params[\"blMax\"] = 13\n",
    "baseline_params[\"blNestFac\"] = -1\n",
    "\n",
    "baseline_params[\"aCount\"] = 50\n",
    "baseline_params[\"aMax\"] = 8\n",
    "baseline_params[\"aNestFac\"] = -1\n",
    "\n",
    "baseline_params[\"bCount\"] = 50\n",
    "baseline_params[\"bMax\"] = 14\n",
    "baseline_params[\"bNestFac\"] = -1\n",
    "\n",
    "max_cycles = 20\n",
    "baseline_params[\"cycles\"] = max_cycles"
   ]
  },
  {
   "cell_type": "code",
   "execution_count": 5,
   "metadata": {
    "collapsed": false,
    "jupyter": {
     "outputs_hidden": false
    },
    "pycharm": {
     "name": "#%%\n"
    }
   },
   "outputs": [],
   "source": [
    "agent = PensionConsumerType(**baseline_params)"
   ]
  },
  {
   "cell_type": "code",
   "execution_count": 6,
   "metadata": {
    "collapsed": false,
    "jupyter": {
     "outputs_hidden": false
    },
    "pycharm": {
     "name": "#%%\n"
    }
   },
   "outputs": [
    {
     "name": "stderr",
     "output_type": "stream",
     "text": [
      "/opt/homebrew/Caskroom/miniforge/base/envs/egmn-dev/lib/python3.10/site-packages/interpolation/splines/eval_splines.py:232: NumbaPendingDeprecationWarning: \u001b[1m\u001b[1m\u001b[1m\u001b[1mCode using Numba extension API maybe depending on 'old_style' error-capturing, which is deprecated and will be replaced by 'new_style' in a future release. See details at https://numba.readthedocs.io/en/latest/reference/deprecation.html#deprecation-of-old-style-numba-captured-errors\n",
      "Exception origin:\n",
      "  File \"/opt/homebrew/Caskroom/miniforge/base/envs/egmn-dev/lib/python3.10/site-packages/interpolation/splines/eval_splines.py\", line 116, in __eval_spline\n",
      "    kk = (order).literal_value\n",
      "\u001b[0m\u001b[0m\u001b[0m\u001b[0m\n",
      "  return _eval_linear(*args)\n",
      "/opt/homebrew/Caskroom/miniforge/base/envs/egmn-dev/lib/python3.10/site-packages/interpolation/splines/eval_splines.py:232: NumbaPendingDeprecationWarning: \u001b[1m\u001b[1m\u001b[1m\u001b[1mCode using Numba extension API maybe depending on 'old_style' error-capturing, which is deprecated and will be replaced by 'new_style' in a future release. See details at https://numba.readthedocs.io/en/latest/reference/deprecation.html#deprecation-of-old-style-numba-captured-errors\n",
      "Exception origin:\n",
      "  File \"/opt/homebrew/Caskroom/miniforge/base/envs/egmn-dev/lib/python3.10/site-packages/interpolation/splines/eval_splines.py\", line 116, in __eval_spline\n",
      "    kk = (order).literal_value\n",
      "\u001b[0m\u001b[0m\u001b[0m\u001b[0m\n",
      "  return _eval_linear(*args)\n",
      "/opt/homebrew/Caskroom/miniforge/base/envs/egmn-dev/lib/python3.10/site-packages/interpolation/splines/eval_splines.py:232: NumbaPendingDeprecationWarning: \u001b[1m\u001b[1m\u001b[1m\u001b[1mCode using Numba extension API maybe depending on 'old_style' error-capturing, which is deprecated and will be replaced by 'new_style' in a future release. See details at https://numba.readthedocs.io/en/latest/reference/deprecation.html#deprecation-of-old-style-numba-captured-errors\n",
      "Exception origin:\n",
      "  File \"/opt/homebrew/Caskroom/miniforge/base/envs/egmn-dev/lib/python3.10/site-packages/interpolation/splines/eval_splines.py\", line 116, in __eval_spline\n",
      "    kk = (order).literal_value\n",
      "\u001b[0m\u001b[0m\u001b[0m\u001b[0m\n",
      "  return _eval_linear(*args)\n"
     ]
    }
   ],
   "source": [
    "with warnings.catch_warnings():\n",
    "    agent.solve()"
   ]
  },
  {
   "cell_type": "code",
   "execution_count": 13,
   "metadata": {},
   "outputs": [],
   "source": [
    "import numpy as np\n",
    "\n",
    "def prep_3d_data(func, xlims, ylims, n=100):\n",
    "    xgrid = np.linspace(xlims[0], xlims[1], n)\n",
    "    ygrid = np.linspace(ylims[0], ylims[1], n)\n",
    "    xMat, yMat = np.meshgrid(xgrid, ygrid, indexing=\"ij\")\n",
    "    zMat = func(xMat, yMat)\n",
    "    return xMat, yMat, zMat\n",
    "\n",
    "\n",
    "fn_lookup = {\n",
    "    'Consumption Value Function (VF)': lambda a, t: a.solution[t].consumption_stage.v_func.vFuncNvrs,\n",
    "    'Consumption VF Derivative L':  lambda a, t: a.solution[t].consumption_stage.dvdl_func.cFunc,\n",
    "    'Consumption VF Derivative B':  lambda a, t: a.solution[t].consumption_stage.dvdb_func.cFunc,\n",
    "    'Deposit Amount': lambda a, t: a.solution[t].deposit_stage.d_func,\n",
    "    'Deposit Stage Consumption': lambda a, t : a.solution[t].deposit_stage.c_func,\n",
    "    'Deposit Stage Value Function (VF)': lambda a, t : a.solution[t].deposit_stage.v_func.vFuncNvrs,\n",
    "    'Deposit Stage VF Derivative M': lambda a,t: a.solution[t].deposit_stage.dvdm_func.cFunc,\n",
    "    'Deposit Stage VF Derivative N': lambda a,t: a.solution[t].deposit_stage.dvdn_func.cFunc\n",
    "}\n",
    "\n",
    "\n",
    "data = dict()\n",
    "\n",
    "for key in fn_lookup.keys():\n",
    "\n",
    "    series = []\n",
    "    for t in range(0, max_cycles):\n",
    "        series.append(prep_3d_data(fn_lookup[key](agent,t),[0, 5], [0, 5]))\n",
    "\n",
    "    data[key] = series\n",
    "    \n",
    "with open('./baseline.pkl', 'wb') as f:\n",
    "    pickle.dump(data, f)"
   ]
  },
  {
   "cell_type": "code",
   "execution_count": null,
   "metadata": {},
   "outputs": [],
   "source": []
  }
 ],
 "metadata": {
  "jupytext": {
   "formats": "ipynb,py:percent"
  },
  "kernelspec": {
   "display_name": "Python 3 (ipykernel)",
   "language": "python",
   "name": "python3"
  },
  "language_info": {
   "codemirror_mode": {
    "name": "ipython",
    "version": 3
   },
   "file_extension": ".py",
   "mimetype": "text/x-python",
   "name": "python",
   "nbconvert_exporter": "python",
   "pygments_lexer": "ipython3",
   "version": "3.10.13"
  },
  "vscode": {
   "interpreter": {
    "hash": "79951e4b60143e56f74775fb161f6f6a8dbe0cc643d2aff46d80703e071913a3"
   }
  }
 },
 "nbformat": 4,
 "nbformat_minor": 4
}
