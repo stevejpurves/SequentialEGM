{
 "cells": [
  {
   "cell_type": "code",
   "execution_count": 2,
   "metadata": {},
   "outputs": [],
   "source": [
    "import pickle\n",
    "import matplotlib.pyplot as plt\n",
    "import numpy as np"
   ]
  },
  {
   "cell_type": "code",
   "execution_count": 9,
   "metadata": {},
   "outputs": [],
   "source": [
    "with open('./baseline.pkl', 'rb') as f:\n",
    "    data = pickle.load(f)"
   ]
  },
  {
   "cell_type": "code",
   "execution_count": 11,
   "metadata": {},
   "outputs": [
    {
     "data": {
      "application/vnd.jupyter.widget-view+json": {
       "model_id": "c14fbded577d48e7b2cdfa26360b49ac",
       "version_major": 2,
       "version_minor": 0
      },
      "text/plain": [
       "VBox(children=(VBox(children=(Label(value='Interactive Controls'), IntSlider(value=0, description='Cycle (t):'…"
      ]
     },
     "metadata": {},
     "output_type": "display_data"
    },
    {
     "data": {
      "application/vnd.jupyter.widget-view+json": {
       "model_id": "b1d0f0ed594d4e8f9c4e847409b3e64d",
       "version_major": 2,
       "version_minor": 0
      },
      "text/plain": [
       "Output()"
      ]
     },
     "metadata": {},
     "output_type": "display_data"
    }
   ],
   "source": [
    "#| label: conspension-precanned\n",
    "import ipywidgets as w\n",
    "from ipywidgets import VBox, HBox\n",
    "import numpy as np\n",
    "\n",
    "debug = w.Output()\n",
    "\n",
    "state = dict(cycles=-1)\n",
    "\n",
    "options = list(data.keys())\n",
    "max_cycles = len(data[options[0]])\n",
    "\n",
    "w_t = w.IntSlider(0, min=0, max=max_cycles-1, description=\"Cycle (t):\")\n",
    "w_plottype = w.Dropdown(options=options, value=options[0], description=\"Plot Type:\")\n",
    "w_plottype.layout.width = '400px'\n",
    "w_solve = w.Button(description='Solve')\n",
    "w_elev = w.IntSlider(20, min=0, max=85, description=\"Elevation:\")\n",
    "w_azim = w.IntSlider(245, min=0, max=360, description=\"Azimuth:\")\n",
    "\n",
    "def plot(t, plottype, elev, azim):\n",
    "    global agent\n",
    "    with debug:\n",
    "        fig = plt.figure(figsize=(6,6))\n",
    "        ax = plt.axes(projection=\"3d\")\n",
    "        ax.view_init(elev=elev, azim=azim)\n",
    "        ax.tick_params(axis='both', labelsize=8)\n",
    "        xMat, yMat, zMat = data[plottype][t]\n",
    "        ax.plot_surface(xMat, yMat, zMat, cmap=\"viridis\")\n",
    "        ax.set_title(\"Cons Pension Model\")\n",
    "        ax.set_xlabel(\"Retirement balance $n$\")\n",
    "        ax.set_ylabel(\"Market Resources $m$\")\n",
    "        ax.set_zlabel(\"Pension Deposits $d$\")\n",
    "\n",
    "interactive_ctrl = VBox([w.Label(\"Interactive Controls\"),w_t, w_plottype, HBox([w_elev, w_azim])])\n",
    "\n",
    "e_out = w.interactive_output(plot, dict(t=w_t, plottype=w_plottype, elev=w_elev, azim=w_azim))\n",
    "plots = HBox([e_out])\n",
    "\n",
    "# TODO get baseline controls working\n",
    "# ui = VBox([baseline_ctrl, interactive_ctrl, plots])\n",
    "ui = VBox([interactive_ctrl, plots])\n",
    "display(ui)\n",
    "display(debug)"
   ]
  },
  {
   "cell_type": "code",
   "execution_count": null,
   "metadata": {},
   "outputs": [],
   "source": []
  },
  {
   "cell_type": "code",
   "execution_count": null,
   "metadata": {},
   "outputs": [],
   "source": []
  }
 ],
 "metadata": {
  "jupytext": {
   "formats": "ipynb,py:percent"
  },
  "kernelspec": {
   "display_name": "Python 3 (ipykernel)",
   "language": "python",
   "name": "python3"
  },
  "language_info": {
   "codemirror_mode": {
    "name": "ipython",
    "version": 3
   },
   "file_extension": ".py",
   "mimetype": "text/x-python",
   "name": "python",
   "nbconvert_exporter": "python",
   "pygments_lexer": "ipython3",
   "version": "3.10.13"
  },
  "vscode": {
   "interpreter": {
    "hash": "79951e4b60143e56f74775fb161f6f6a8dbe0cc643d2aff46d80703e071913a3"
   }
  }
 },
 "nbformat": 4,
 "nbformat_minor": 4
}
